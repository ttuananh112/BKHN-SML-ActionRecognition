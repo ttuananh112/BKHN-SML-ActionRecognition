{
 "cells": [
  {
   "cell_type": "code",
   "execution_count": 1,
   "id": "93cdb356-0539-4136-b465-60369eb1cfab",
   "metadata": {},
   "outputs": [],
   "source": [
    "import os\n",
    "import pandas as pd\n",
    "import numpy as np\n",
    "import constants as const\n",
    "import matplotlib.pyplot as plt\n",
    "\n",
    "from xgboost import XGBClassifier"
   ]
  },
  {
   "cell_type": "markdown",
   "id": "15c5ac4f-bf6a-4060-9098-b3241e5fdac0",
   "metadata": {},
   "source": [
    "<h4>Get data</h4>"
   ]
  },
  {
   "cell_type": "code",
   "execution_count": 2,
   "id": "661ae27a-584c-4aef-a467-10bab599be19",
   "metadata": {},
   "outputs": [],
   "source": [
    "list_obj = [obj for obj in os.listdir(const.PREPROCESSED_FOLDER) if const.CSV in obj]"
   ]
  },
  {
   "cell_type": "code",
   "execution_count": 3,
   "id": "b9cfd9e6-0fd7-422b-ae38-18beb4ff6feb",
   "metadata": {},
   "outputs": [
    {
     "data": {
      "text/plain": [
       "490"
      ]
     },
     "execution_count": 3,
     "metadata": {},
     "output_type": "execute_result"
    }
   ],
   "source": [
    "len(list_obj)"
   ]
  },
  {
   "cell_type": "markdown",
   "id": "62871099-bdad-4bbd-a6b2-9520c4b0ae93",
   "metadata": {},
   "source": [
    "<h4>Split train/test</h4>"
   ]
  },
  {
   "cell_type": "code",
   "execution_count": 4,
   "id": "373e9ba3-b01e-4ec0-bc32-2b902c5292f5",
   "metadata": {},
   "outputs": [],
   "source": [
    "TRAIN_PERC = 0.8\n",
    "NUM_TRAIN = int(len(list_obj) * TRAIN_PERC)"
   ]
  },
  {
   "cell_type": "code",
   "execution_count": 5,
   "id": "2100328f-a3fe-4fe2-8520-f3993a578d4e",
   "metadata": {},
   "outputs": [
    {
     "data": {
      "text/plain": [
       "'T0_Id300835.actLabel.csv'"
      ]
     },
     "execution_count": 5,
     "metadata": {},
     "output_type": "execute_result"
    }
   ],
   "source": [
    "list_obj[0]"
   ]
  },
  {
   "cell_type": "code",
   "execution_count": 6,
   "id": "f067244c-7286-4516-bf0c-fd8ce709c344",
   "metadata": {},
   "outputs": [],
   "source": [
    "np.random.shuffle(list_obj)"
   ]
  },
  {
   "cell_type": "code",
   "execution_count": 7,
   "id": "6a787caf-80b5-4cff-a0df-07013a2e2444",
   "metadata": {},
   "outputs": [
    {
     "data": {
      "text/plain": [
       "'T0_Id300315.actLabel.csv'"
      ]
     },
     "execution_count": 7,
     "metadata": {},
     "output_type": "execute_result"
    }
   ],
   "source": [
    "list_obj[0]"
   ]
  },
  {
   "cell_type": "code",
   "execution_count": 8,
   "id": "2eb6da8a-09b5-4f3a-9513-392b1965aabd",
   "metadata": {},
   "outputs": [],
   "source": [
    "list_obj_train = list_obj[:NUM_TRAIN]\n",
    "list_obj_test = list_obj[NUM_TRAIN:]"
   ]
  },
  {
   "cell_type": "code",
   "execution_count": 9,
   "id": "c63da542-a993-4c9c-8001-473b5a5a58d5",
   "metadata": {},
   "outputs": [
    {
     "name": "stdout",
     "output_type": "stream",
     "text": [
      "392\n",
      "98\n"
     ]
    }
   ],
   "source": [
    "print(len(list_obj_train))\n",
    "print(len(list_obj_test))"
   ]
  },
  {
   "cell_type": "code",
   "execution_count": 10,
   "id": "cc2ea76a-5add-40fa-a2b2-0a1ec7034b49",
   "metadata": {},
   "outputs": [],
   "source": [
    "def load_data(list_obj):\n",
    "    list_df = []\n",
    "    for obj in list_obj:\n",
    "        path = os.path.join(const.PREPROCESSED_FOLDER, obj)\n",
    "        list_df.append(pd.read_csv(path))\n",
    "    data = pd.concat(list_df).values\n",
    "    label = data[:, 0]\n",
    "    feats = data[:, 1:]\n",
    "    return feats, label\n",
    "\n",
    "def bar_plot(\n",
    "    x_value, y_value, *args, \n",
    "    x_label=None, y_label=None, \n",
    "    title=None, figsize=(10, 5)\n",
    "):\n",
    "    fig = plt.figure(figsize=figsize) \n",
    "    plt.bar(x_value, y_value, \n",
    "            color ='maroon',\n",
    "            width = 0.4)\n",
    "\n",
    "    plt.xlabel(x_label)\n",
    "    plt.ylabel(y_label)\n",
    "    plt.title(title)\n",
    "    plt.show()"
   ]
  },
  {
   "cell_type": "code",
   "execution_count": 11,
   "id": "dbf48df1-923d-4214-91fc-296f7b5c7ff7",
   "metadata": {},
   "outputs": [],
   "source": [
    "train_feats, train_label = load_data(list_obj_train)\n",
    "test_feats, test_label = load_data(list_obj_test)"
   ]
  },
  {
   "cell_type": "code",
   "execution_count": 12,
   "id": "111423a6-94b1-4a00-8612-5363563c41a4",
   "metadata": {},
   "outputs": [],
   "source": [
    "train_label += 1\n",
    "test_label += 1"
   ]
  },
  {
   "cell_type": "code",
   "execution_count": 13,
   "id": "73eba9d6-b803-4479-a546-9e24166e8754",
   "metadata": {},
   "outputs": [],
   "source": [
    "train_lbl, train_cnt = np.unique(train_label, return_counts=True)\n",
    "test_lbl, test_cnt = np.unique(test_label, return_counts=True)"
   ]
  },
  {
   "cell_type": "code",
   "execution_count": 14,
   "id": "96c0ab3d-2e13-44a6-90e8-5ac73d0f1ca7",
   "metadata": {},
   "outputs": [
    {
     "data": {
      "image/png": "[encoded data removed]",
      "text/plain": [
       "<Figure size 720x360 with 1 Axes>"
      ]
     },
     "metadata": {
      "needs_background": "light"
     },
     "output_type": "display_data"
    }
   ],
   "source": [
    "bar_plot(train_lbl, train_cnt, title=\"Training set\")"
   ]
  },
  {
   "cell_type": "code",
   "execution_count": 15,
   "id": "44b2f322-a485-47c4-9ae8-e64df20916c4",
   "metadata": {},
   "outputs": [
    {
     "data": {
      "image/png": "[encoded data removed]",
      "text/plain": [
       "<Figure size 720x360 with 1 Axes>"
      ]
     },
     "metadata": {
      "needs_background": "light"
     },
     "output_type": "display_data"
    }
   ],
   "source": [
    "bar_plot(test_lbl, test_cnt, title=\"Test set\")"
   ]
  },
  {
   "cell_type": "code",
   "execution_count": 16,
   "id": "c6b86119-6cba-4c96-a967-d45eec8575a5",
   "metadata": {},
   "outputs": [
    {
     "name": "stdout",
     "output_type": "stream",
     "text": [
      "(24672, 450) (24672,)\n",
      "(6472, 450) (6472,)\n"
     ]
    }
   ],
   "source": [
    "print(train_feats.shape, train_label.shape)\n",
    "print(test_feats.shape, test_label.shape)"
   ]
  },
  {
   "cell_type": "markdown",
   "id": "a8db4d8f-93ab-4392-89b7-ad26dddea947",
   "metadata": {},
   "source": [
    "<h4>Train model XGBoost</h4>"
   ]
  },
  {
   "cell_type": "code",
   "execution_count": 17,
   "id": "4e8dc3ae-54b7-4fc1-abea-73f048bb2ee0",
   "metadata": {},
   "outputs": [],
   "source": [
    "model = XGBClassifier(n_estimators=5, max_depth=30, learning_rate=1, objective='multi:softmax', num_class=6, use_label_encoder=False)"
   ]
  },
  {
   "cell_type": "code",
   "execution_count": 18,
   "id": "cc152d3e-7ebf-4d86-9f6c-dac6fcb10152",
   "metadata": {},
   "outputs": [
    {
     "name": "stdout",
     "output_type": "stream",
     "text": [
      "[14:47:33] WARNING: /home/conda/feedstock_root/build_artifacts/xgboost-split_1645117836726/work/src/learner.cc:1115: Starting in XGBoost 1.3.0, the default evaluation metric used with the objective 'multi:softprob' was changed from 'merror' to 'mlogloss'. Explicitly set eval_metric if you'd like to restore the old behavior.\n"
     ]
    },
    {
     "data": {
      "text/plain": [
       "XGBClassifier(base_score=0.5, booster='gbtree', colsample_bylevel=1,\n",
       "              colsample_bynode=1, colsample_bytree=1, enable_categorical=False,\n",
       "              gamma=0, gpu_id=-1, importance_type=None,\n",
       "              interaction_constraints='', learning_rate=1, max_delta_step=0,\n",
       "              max_depth=30, min_child_weight=1, missing=nan,\n",
       "              monotone_constraints='()', n_estimators=5, n_jobs=12, num_class=6,\n",
       "              num_parallel_tree=1, objective='multi:softprob', predictor='auto',\n",
       "              random_state=0, reg_alpha=0, reg_lambda=1, scale_pos_weight=None,\n",
       "              subsample=1, tree_method='exact', use_label_encoder=False,\n",
       "              validate_parameters=1, ...)"
      ]
     },
     "execution_count": 18,
     "metadata": {},
     "output_type": "execute_result"
    }
   ],
   "source": [
    "model.fit(train_feats, train_label)"
   ]
  },
  {
   "cell_type": "markdown",
   "id": "c6a9aabf-fca8-4bb2-84df-eebe07b6c3ee",
   "metadata": {},
   "source": [
    "<h4>Get predictions from trained model</h4>"
   ]
  },
  {
   "cell_type": "code",
   "execution_count": 19,
   "id": "d1f844eb-6010-4049-a955-17e807a8da00",
   "metadata": {},
   "outputs": [],
   "source": [
    "preds = model.predict(test_feats)"
   ]
  },
  {
   "cell_type": "code",
   "execution_count": 20,
   "id": "2c846af8-4a30-4b12-999e-a0b36c22dd6e",
   "metadata": {},
   "outputs": [
    {
     "data": {
      "text/plain": [
       "array([0, 1, 2, 3, 4, 5])"
      ]
     },
     "execution_count": 20,
     "metadata": {},
     "output_type": "execute_result"
    }
   ],
   "source": [
    "np.unique(preds)"
   ]
  },
  {
   "cell_type": "markdown",
   "id": "bdb15f45-64f8-4870-81b5-471ac90e783b",
   "metadata": {},
   "source": [
    "<h4>Accuracy</h4>"
   ]
  },
  {
   "cell_type": "code",
   "execution_count": 21,
   "id": "11ffd06a-6738-449a-bc8a-5a569c1e7f2e",
   "metadata": {},
   "outputs": [],
   "source": [
    "correct = (preds == test_label).sum() \n",
    "acc = correct / len(test_label)"
   ]
  },
  {
   "cell_type": "code",
   "execution_count": 22,
   "id": "4d0a4865-f36a-4b83-9703-59b4991de98c",
   "metadata": {},
   "outputs": [
    {
     "data": {
      "text/plain": [
       "0.7424289245982695"
      ]
     },
     "execution_count": 22,
     "metadata": {},
     "output_type": "execute_result"
    }
   ],
   "source": [
    "acc"
   ]
  },
  {
   "cell_type": "code",
   "execution_count": null,
   "id": "bcef2cf1-d096-4eb7-8402-9cee8344c7ee",
   "metadata": {},
   "outputs": [],
   "source": []
  }
 ],
 "metadata": {
  "kernelspec": {
   "display_name": "Python 3 (ipykernel)",
   "language": "python",
   "name": "python3"
  },
  "language_info": {
   "codemirror_mode": {
    "name": "ipython",
    "version": 3
   },
   "file_extension": ".py",
   "mimetype": "text/x-python",
   "name": "python",
   "nbconvert_exporter": "python",
   "pygments_lexer": "ipython3",
   "version": "3.7.15"
  }
 },
 "nbformat": 4,
 "nbformat_minor": 5
}
