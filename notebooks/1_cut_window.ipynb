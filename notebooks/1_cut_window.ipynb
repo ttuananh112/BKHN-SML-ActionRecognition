{
 "cells": [
  {
   "cell_type": "code",
   "execution_count": 1,
   "id": "607f50e5-eded-48f7-86af-44e4ef8dba3c",
   "metadata": {},
   "outputs": [],
   "source": [
    "import os\n",
    "import glob\n",
    "import pandas as pd\n",
    "import numpy as np\n",
    "import constants as const\n",
    "from tqdm import tqdm"
   ]
  },
  {
   "cell_type": "markdown",
   "id": "a1c4b097-7ff3-498f-8523-5981dd8f44e4",
   "metadata": {},
   "source": [
    "<h4>Dataset folder</h4>"
   ]
  },
  {
   "cell_type": "code",
   "execution_count": 2,
   "id": "cd5fd007-364c-4dff-8772-6229f4b380b0",
   "metadata": {},
   "outputs": [],
   "source": [
    "CENTER_FOLDER = os.path.join(const.DATASET_FOLDER, const.CENTER)\n",
    "LEFT_FOLDER = os.path.join(const.DATASET_FOLDER, const.LEFT)\n",
    "RIGHT_FOLDER = os.path.join(const.DATASET_FOLDER, const.RIGHT)"
   ]
  },
  {
   "cell_type": "code",
   "execution_count": 3,
   "id": "077f5752-a2b3-4582-8372-16dc719f1562",
   "metadata": {},
   "outputs": [],
   "source": [
    "list_center_sensor = os.listdir(CENTER_FOLDER)\n",
    "list_left_sensor = os.listdir(LEFT_FOLDER)\n",
    "list_right_sensor = os.listdir(RIGHT_FOLDER)"
   ]
  },
  {
   "cell_type": "code",
   "execution_count": 4,
   "id": "3428e819-90c6-4fcd-ae44-0adda1edf8f9",
   "metadata": {},
   "outputs": [
    {
     "name": "stdout",
     "output_type": "stream",
     "text": [
      "504\n",
      "496\n",
      "494\n"
     ]
    }
   ],
   "source": [
    "print(len(list_center_sensor))\n",
    "print(len(list_left_sensor))\n",
    "print(len(list_right_sensor))"
   ]
  },
  {
   "cell_type": "code",
   "execution_count": 5,
   "id": "3fcf37d4-4fdb-40eb-9e37-f40995303c61",
   "metadata": {},
   "outputs": [],
   "source": [
    "intersect = list(set(list_center_sensor) & set(list_left_sensor) & set(list_right_sensor))"
   ]
  },
  {
   "cell_type": "code",
   "execution_count": 6,
   "id": "edaebf89-06af-4e17-b893-02ef0f75d85b",
   "metadata": {},
   "outputs": [
    {
     "data": {
      "text/plain": [
       "490"
      ]
     },
     "execution_count": 6,
     "metadata": {},
     "output_type": "execute_result"
    }
   ],
   "source": [
    "len(intersect)"
   ]
  },
  {
   "cell_type": "code",
   "execution_count": 7,
   "id": "0b4375cd-58f9-419c-ac79-2855c6dbe3ea",
   "metadata": {},
   "outputs": [
    {
     "data": {
      "text/plain": [
       "'T0_Id016020.actLabel'"
      ]
     },
     "execution_count": 7,
     "metadata": {},
     "output_type": "execute_result"
    }
   ],
   "source": [
    "intersect[0]"
   ]
  },
  {
   "cell_type": "code",
   "execution_count": 8,
   "id": "3d8432fb-1751-4a91-ac00-f6f186ada21b",
   "metadata": {},
   "outputs": [],
   "source": [
    "list_center_sensor = sorted([os.path.join(CENTER_FOLDER, sess) for sess in intersect])\n",
    "list_left_sensor = sorted([os.path.join(LEFT_FOLDER, sess) for sess in intersect])\n",
    "list_right_sensor = sorted([os.path.join(RIGHT_FOLDER, sess) for sess in intersect])"
   ]
  },
  {
   "cell_type": "code",
   "execution_count": 9,
   "id": "f7bb0e1d-bf40-4845-8aff-ef6c62edd4eb",
   "metadata": {},
   "outputs": [
    {
     "data": {
      "text/plain": [
       "'/home/anhtt163/Documents/BKHN/materials/statistical_machine_learning/dataset/IneritialGaitActionDataset/CenterSensor/T0_Id000000.actLabel'"
      ]
     },
     "execution_count": 9,
     "metadata": {},
     "output_type": "execute_result"
    }
   ],
   "source": [
    "list_center_sensor[0]"
   ]
  },
  {
   "cell_type": "code",
   "execution_count": 10,
   "id": "b04df458-4df7-4ab1-9234-038ba87dfcd1",
   "metadata": {},
   "outputs": [],
   "source": [
    "class Stats:\n",
    "    def __init__(self):\n",
    "        self.freq = const.FREQ\n",
    "        self.mapping_labels = const.MAPPING_LABELS\n",
    "        # containers\n",
    "        self.dfs = {}\n",
    "        self.dur_by_act = {const.CENTER: {}, const.LEFT: {}, const.RIGHT: {}}\n",
    "        \n",
    "    def set_dur(self, df, pos):\n",
    "        df[const.GROUP] = (df[const.LABEL].diff().fillna(0) != 0).cumsum()\n",
    "        for group, df in df.groupby([const.GROUP]):\n",
    "            assert len(df[const.LABEL].unique()) == 1, \"There are many labels in this group\"\n",
    "            label = self.mapping_labels[df.iloc[0][const.LABEL]]\n",
    "            dur = len(df) / self.freq  # convert to sec\n",
    "            if label not in self.dur_by_act[pos]:\n",
    "                self.dur_by_act[pos][label] = [dur]\n",
    "            else:\n",
    "                self.dur_by_act[pos][label].append(dur)\n",
    "    \n",
    "    def stat_dur(self, func=np.mean):\n",
    "        for pos, dict_acts in stats.dur_by_act.items():\n",
    "            print(pos)\n",
    "            for act, durs in dict_acts.items():\n",
    "                print(f\"{act}:\\t {func(durs):.2f}s\")\n",
    "            print()\n",
    "            \n",
    "    def set_df(self, path, *df):\n",
    "        self.dfs[path] = pd.concat(df, axis=1)\n",
    "        \n",
    "\n",
    "class Processor:\n",
    "    def __init__(self, parent_folder):\n",
    "        self.parent_folder = parent_folder\n",
    "\n",
    "    @staticmethod\n",
    "    def process_window(df, freq_threshold=const.FREQ_THRESHOLD):\n",
    "        src_lbl = f\"{const.CENTER}_{const.LABEL}\"\n",
    "        dst_lbl = const.LABEL\n",
    "        \n",
    "        # get frequency of each label\n",
    "        lbl, cnt = np.unique(df[src_lbl], return_counts=True)\n",
    "        freq = cnt / np.sum(cnt)\n",
    "        max_idx = np.argmax(freq)\n",
    "        # return None if not meet threshold\n",
    "        if freq[max_idx] < freq_threshold:\n",
    "            return None\n",
    "        \n",
    "        # get most frequent as label\n",
    "        df[src_lbl] = lbl[max_idx]\n",
    "        \n",
    "        # get necessary cols only\n",
    "        columns = [src_lbl] + [f\"{pos}_{sensor}\" for pos in const.POS for sensor in const.SENSORS ]\n",
    "        df = df[columns].rename(columns={src_lbl: dst_lbl})\n",
    "        \n",
    "        return df\n",
    "\n",
    "    @staticmethod\n",
    "    def sliding_window(df, window_size, step):\n",
    "        len_df = len(df)\n",
    "        start_indexes = range(0, len_df, step)\n",
    "        for start_index in start_indexes:\n",
    "            end_index = start_index + window_size\n",
    "            if end_index >= len_df:\n",
    "                break\n",
    "            yield df.iloc[start_index: end_index]\n",
    "\n",
    "    def save_window(self, df, sess, counter):\n",
    "        if df is not None:\n",
    "            path = os.path.join(self.parent_folder, sess, f\"{counter:08d}.csv\")\n",
    "            os.makedirs(os.path.dirname(path), exist_ok=True)\n",
    "            df.to_csv(path, index=False)\n",
    "    \n",
    "    def run(self, window_size=const.WINDOW_SIZE, step=const.STEP):\n",
    "        # TODO: add multiple threads\n",
    "        for sess, df in tqdm(stats.dfs.items()):\n",
    "            for counter, cut_df in enumerate(self.sliding_window(df=df, window_size=window_size, step=step)):\n",
    "                self.save_window(df=self.process_window(cut_df), sess=sess, counter=counter)"
   ]
  },
  {
   "cell_type": "code",
   "execution_count": 11,
   "id": "873e30a5-7fb4-4d2b-a0ac-ba4cd727d39a",
   "metadata": {},
   "outputs": [],
   "source": [
    "stats = Stats()\n",
    "for paths in zip(list_center_sensor, list_left_sensor, list_right_sensor):\n",
    "    df_container = []\n",
    "    # TODO: add multiple threads\n",
    "    for path in paths:\n",
    "        pos_path = os.path.dirname(path)\n",
    "        pos = os.path.basename(pos_path)\n",
    "        assert pos in const.POS, f\"{pos} not in {const.POS}\"\n",
    "        df = pd.read_csv(path, skiprows=1, delimiter=\"\\t\")\n",
    "        # do statistics\n",
    "        stats.set_dur(df, pos)    \n",
    "        # concat\n",
    "        df.columns = [f\"{pos}_{col}\" for col in df.columns]\n",
    "        df_container.append(df)\n",
    "    \n",
    "    session = os.path.basename(paths[0])\n",
    "    stats.set_df(session, *df_container)"
   ]
  },
  {
   "cell_type": "code",
   "execution_count": 12,
   "id": "7722d837-8617-409d-9f8d-37f87c0259dc",
   "metadata": {},
   "outputs": [
    {
     "name": "stdout",
     "output_type": "stream",
     "text": [
      "CenterSensor\n",
      "level_walk:\t 5.25s\n",
      "invalid:\t 2.93s\n",
      "upstairs:\t 1.37s\n",
      "slope_down:\t 2.10s\n",
      "slope_up:\t 2.04s\n",
      "downstairs:\t 1.20s\n",
      "\n",
      "LeftSensor\n",
      "level_walk:\t 4.11s\n",
      "invalid:\t 2.94s\n",
      "upstairs:\t 1.37s\n",
      "slope_down:\t 2.10s\n",
      "slope_up:\t 2.04s\n",
      "downstairs:\t 1.20s\n",
      "\n",
      "RightSensor\n",
      "level_walk:\t 4.09s\n",
      "invalid:\t 2.93s\n",
      "upstairs:\t 1.37s\n",
      "slope_down:\t 2.10s\n",
      "slope_up:\t 2.04s\n",
      "downstairs:\t 1.20s\n",
      "\n"
     ]
    }
   ],
   "source": [
    "stats.stat_dur(func=np.mean)"
   ]
  },
  {
   "cell_type": "code",
   "execution_count": 13,
   "id": "9d995041-c220-4f7a-8fe5-96979d1c9e0e",
   "metadata": {},
   "outputs": [
    {
     "data": {
      "text/plain": [
       "490"
      ]
     },
     "execution_count": 13,
     "metadata": {},
     "output_type": "execute_result"
    }
   ],
   "source": [
    "len(stats.dfs)"
   ]
  },
  {
   "cell_type": "code",
   "execution_count": 14,
   "id": "c7338896-6eee-49b8-a3d0-546f6f0708d9",
   "metadata": {
    "tags": []
   },
   "outputs": [
    {
     "name": "stderr",
     "output_type": "stream",
     "text": [
      "  0%|          | 0/490 [00:00<?, ?it/s]/home/anhtt163/.conda/envs/sml/lib/python3.7/site-packages/ipykernel_launcher.py:49: SettingWithCopyWarning: \n",
      "A value is trying to be set on a copy of a slice from a DataFrame.\n",
      "Try using .loc[row_indexer,col_indexer] = value instead\n",
      "\n",
      "See the caveats in the documentation: https://pandas.pydata.org/pandas-docs/stable/user_guide/indexing.html#returning-a-view-versus-a-copy\n",
      "100%|██████████| 490/490 [01:02<00:00,  7.79it/s]\n"
     ]
    }
   ],
   "source": [
    "Processor(const.WINDOWS_FOLDER).run()"
   ]
  },
  {
   "cell_type": "code",
   "execution_count": null,
   "id": "b5330968-8f21-4b05-bbb4-6cafcf0ef94b",
   "metadata": {},
   "outputs": [],
   "source": []
  }
 ],
 "metadata": {
  "kernelspec": {
   "display_name": "Python 3 (ipykernel)",
   "language": "python",
   "name": "python3"
  },
  "language_info": {
   "codemirror_mode": {
    "name": "ipython",
    "version": 3
   },
   "file_extension": ".py",
   "mimetype": "text/x-python",
   "name": "python",
   "nbconvert_exporter": "python",
   "pygments_lexer": "ipython3",
   "version": "3.7.15"
  }
 },
 "nbformat": 4,
 "nbformat_minor": 5
}
