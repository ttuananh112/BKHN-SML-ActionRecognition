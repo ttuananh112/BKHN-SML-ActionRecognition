{
 "cells": [
  {
   "cell_type": "code",
   "execution_count": 1,
   "id": "0ba2b249-f28a-488a-a2ba-608215076996",
   "metadata": {},
   "outputs": [],
   "source": [
    "import os\n",
    "import glob\n",
    "import pandas as pd\n",
    "import numpy as np\n",
    "import constants as const\n",
    "from tqdm import tqdm\n",
    "from scipy.fft import fft, fftshift"
   ]
  },
  {
   "cell_type": "code",
   "execution_count": 2,
   "id": "61ae222d-3f18-4992-a023-be23dcea1209",
   "metadata": {
    "tags": []
   },
   "outputs": [],
   "source": [
    "def preprocess(src_folder=const.WINDOWS_FOLDER, dst_folder=const.PREPROCESSED_FOLDER):\n",
    "    os.makedirs(dst_folder, exist_ok=True)\n",
    "    \n",
    "    for obj in tqdm(os.listdir(src_folder)):\n",
    "        obj_path = os.path.join(src_folder, obj)\n",
    "\n",
    "        rows = []\n",
    "        for window in os.listdir(obj_path):\n",
    "            if const.CSV not in window:\n",
    "                continue\n",
    "            window_path = os.path.join(obj_path, window)\n",
    "            df = pd.read_csv(window_path)\n",
    "            label = df[const.LABEL].mode()[0]\n",
    "            row = {const.LABEL: label}\n",
    "            for col in const.COLUMNS:\n",
    "                data = df[col].values\n",
    "                num_samples = len(data)\n",
    "                yf = fft(data)[:num_samples//2]\n",
    "                yf = 1.0/num_samples * np.abs(yf)\n",
    "                row.update({f\"{col}_{i:02d}\": v for i, v in enumerate(yf)})\n",
    "            rows.append(row)\n",
    "        \n",
    "        dst_path = f\"{dst_folder}/{obj}.csv\"\n",
    "        pd.DataFrame(rows).to_csv(dst_path, index=False)"
   ]
  },
  {
   "cell_type": "code",
   "execution_count": 3,
   "id": "b9df6e1a-e7a9-498a-a978-57f1812b6a94",
   "metadata": {},
   "outputs": [
    {
     "name": "stderr",
     "output_type": "stream",
     "text": [
      "100%|██████████| 490/490 [01:53<00:00,  4.33it/s]\n"
     ]
    }
   ],
   "source": [
    "preprocess()"
   ]
  },
  {
   "cell_type": "code",
   "execution_count": null,
   "id": "3f0c6e4c-dff1-43d0-a6d1-20fa3143fec7",
   "metadata": {},
   "outputs": [],
   "source": []
  }
 ],
 "metadata": {
  "kernelspec": {
   "display_name": "Python 3 (ipykernel)",
   "language": "python",
   "name": "python3"
  },
  "language_info": {
   "codemirror_mode": {
    "name": "ipython",
    "version": 3
   },
   "file_extension": ".py",
   "mimetype": "text/x-python",
   "name": "python",
   "nbconvert_exporter": "python",
   "pygments_lexer": "ipython3",
   "version": "3.7.15"
  }
 },
 "nbformat": 4,
 "nbformat_minor": 5
}
